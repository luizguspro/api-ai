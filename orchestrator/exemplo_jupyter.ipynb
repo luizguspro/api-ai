
{
 "cells": [
  {
   "cell_type": "markdown",
   "metadata": {},
   "source": [
    "# AI Training Orchestrator - Exemplo de Uso\n",
    "Este notebook demonstra como usar o Orquestrador de Treino"
   ]
  },
  {
   "cell_type": "code",
   "execution_count": null,
   "metadata": {},
   "outputs": [],
   "source": [
    "# Importar cliente\n",
    "import sys\n",
    "sys.path.append('/home/lgsilva/SAT_IA_API/aicore-gpu/orchestrator')\n",
    "from trainee_client import Trainee\n",
    "\n",
    "# Criar cliente\n",
    "client = Trainee('http://localhost:8000')"
   ]
  },
  {
   "cell_type": "code",
   "execution_count": null,
   "metadata": {},
   "outputs": [],
   "source": [
    "# Submeter job de treino\n",
    "job_id = client.train(\n",
    "    input_path='/home/lgsilva/SAT_IA/ai_core/artefatos',\n",
    "    output_path='/tmp/modelo_notebook',\n",
    "    git_hash='v1.0',\n",
    "    config={'epochs': 5, 'batch_size': 32}\n",
    ")\n",
    "\n",
    "print(f'Job criado: {job_id}')"
   ]
  },
  {
   "cell_type": "code",
   "execution_count": null,
   "metadata": {},
   "outputs": [],
   "source": [
    "# Verificar status\n",
    "status = client.get_status(job_id)\n",
    "print(f'Status: {status}')"
   ]
  },
  {
   "cell_type": "code",
   "execution_count": null,
   "metadata": {},
   "outputs": [],
   "source": [
    "# Listar todos os jobs\n",
    "jobs = client.list_jobs()\n",
    "for job in jobs:\n",
    "    print(f\"{job['id']}: {job['status']}\")"
   ]
  }
 ],
 "metadata": {
  "kernelspec": {
   "display_name": "Python 3",
   "language": "python",
   "name": "python3"
  }
 },
 "nbformat": 4,
 "nbformat_minor": 4
}
